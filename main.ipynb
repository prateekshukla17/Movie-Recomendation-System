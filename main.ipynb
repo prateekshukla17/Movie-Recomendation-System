{
 "cells": [
  {
   "cell_type": "markdown",
   "id": "8de462ba-1208-4c78-aed0-7b33c347c4fe",
   "metadata": {},
   "source": [
    "<h1>Capstone Project</h1>\n",
    "<h3>GUI BASED MOVIES RECOMMENDATION SYSTEM</h3>\n",
    "<p>submitted by Prateek Shukla</p>"
   ]
  },
  {
   "cell_type": "markdown",
   "id": "4dbdc251-50aa-4a8a-a35a-7addc5fc33ca",
   "metadata": {},
   "source": [
    "<h2>Importing Values</h2>"
   ]
  },
  {
   "cell_type": "code",
   "execution_count": 15,
   "id": "831d09c9-19b8-4d87-9982-f18853591dba",
   "metadata": {},
   "outputs": [],
   "source": [
    "import pandas as pd\n",
    "import numpy as np\n",
    "from sklearn.metrics.pairwise import cosine_similarity\n",
    "from sklearn.feature_extraction.text import CountVectorizer\n",
    "from sklearn.neighbors import NearestNeighbors\n",
    "from ipywidgets import interact, widgets\n",
    "from IPython.display import display"
   ]
  },
  {
   "cell_type": "markdown",
   "id": "acfec997-c189-47ad-b80a-76cf0ed23d03",
   "metadata": {},
   "source": [
    "<h2>Importing the DataSet</h2>"
   ]
  },
  {
   "cell_type": "code",
   "execution_count": 17,
   "id": "5b4adfde-a654-46a0-b661-c18052859bf6",
   "metadata": {},
   "outputs": [],
   "source": [
    "movies = pd.read_csv('movies.csv')\n",
    "ratings =  pd.read_csv('ratings.csv')"
   ]
  },
  {
   "cell_type": "markdown",
   "id": "13af8981-4fcb-4e10-8e37-e18ecdac0a42",
   "metadata": {},
   "source": [
    "<h2>Checking Number of Uniques Values</h2>"
   ]
  },
  {
   "cell_type": "code",
   "execution_count": 18,
   "id": "c3e3e86e-464c-46b0-a7c5-9f38c6e2e107",
   "metadata": {},
   "outputs": [
    {
     "name": "stdout",
     "output_type": "stream",
     "text": [
      "Number of unique users: 668\n",
      "Number of unique movies: 10325\n"
     ]
    }
   ],
   "source": [
    "unique_users = ratings['userId'].nunique()\n",
    "unique_movies = ratings['movieId'].nunique()\n",
    "print(f\"Number of unique users: {unique_users}\")\n",
    "print(f\"Number of unique movies: {unique_movies}\")"
   ]
  },
  {
   "cell_type": "code",
   "execution_count": 24,
   "id": "8cd8516e-2d25-4080-b694-6b8e9bf81c16",
   "metadata": {},
   "outputs": [
    {
     "name": "stdout",
     "output_type": "stream",
     "text": [
      "Unique genres: {'Adventure', 'Animation', 'Musical', 'Drama', 'Children', 'IMAX', 'Mystery', 'Documentary', 'Action', 'Romance', 'Crime', '(no genres listed)', 'Comedy', 'Horror', 'Sci-Fi', 'Fantasy', 'Thriller', 'Western', 'Film-Noir', 'War'}\n"
     ]
    }
   ],
   "source": [
    "movies['genres_list'] = movies['genres'].apply(lambda x: x.split('|'))\n",
    "all_genres = set([genre for sublist in movies['genres_list'] for genre in sublist])\n",
    "print(\"Unique genres:\", all_genres)"
   ]
  },
  {
   "cell_type": "markdown",
   "id": "deeac253-47c2-4fbc-988c-b4d03b7a0ca1",
   "metadata": {},
   "source": [
    "<h2>Popularity Based Sytem Function</h2>"
   ]
  },
  {
   "cell_type": "code",
   "execution_count": 13,
   "id": "18c2f119-a164-4efb-ae35-c4936dec2a32",
   "metadata": {},
   "outputs": [],
   "source": [
    "def popularity_based_recommendation(genre, min_reviews, top_n):\n",
    "    genre_movies = movies[movies['genres'].str.contains(genre)]\n",
    "    merged_data = pd.merge(genre_movies, ratings, on='movieId')\n",
    "    filtered_movies = merged_data.groupby('title').filter(lambda x: x['rating'].count() >= min_reviews)\n",
    "    recommendations = filtered_movies.groupby('title')['rating'].mean().sort_values(ascending=False).head(top_n)\n",
    "    return recommendations\n"
   ]
  },
  {
   "cell_type": "markdown",
   "id": "03bf7e0b-b5e8-4e12-a1f5-70e0f32e8925",
   "metadata": {},
   "source": [
    "<h3>GUI for the Above Function</h3>"
   ]
  },
  {
   "cell_type": "code",
   "execution_count": 21,
   "id": "04e7b99e-fa01-4923-b7cd-7761f6b51b50",
   "metadata": {},
   "outputs": [],
   "source": [
    "def display_popularity_based_recommendations(genre, min_reviews, top_n):\n",
    "    recommendations = popularity_based_recommendation(genre, min_reviews, top_n)\n",
    "    display(recommendations)"
   ]
  },
  {
   "cell_type": "code",
   "execution_count": 22,
   "id": "4d4df692-e547-41a3-a3a5-f344d84543ba",
   "metadata": {},
   "outputs": [
    {
     "name": "stdout",
     "output_type": "stream",
     "text": [
      "title\n",
      "Monty Python and the Holy Grail (1975)    4.301948\n",
      "Fargo (1996)                              4.271144\n",
      "Princess Bride, The (1987)                4.163743\n",
      "Pulp Fiction (1994)                       4.160000\n",
      "Forrest Gump (1994)                       4.138264\n",
      "Name: rating, dtype: float64\n"
     ]
    }
   ],
   "source": [
    "print(popularity_based_recommendation(\"Comedy\", 100, 5))"
   ]
  },
  {
   "cell_type": "code",
   "execution_count": 25,
   "id": "8f582725-76f6-44eb-98fc-e24ff1fcea8d",
   "metadata": {},
   "outputs": [
    {
     "data": {
      "application/vnd.jupyter.widget-view+json": {
       "model_id": "1ee80a140f8542b19856c2fff8057ae5",
       "version_major": 2,
       "version_minor": 0
      },
      "text/plain": [
       "interactive(children=(Dropdown(description='Genre', options=('Adventure', 'Animation', 'Musical', 'Drama', 'Ch…"
      ]
     },
     "metadata": {},
     "output_type": "display_data"
    },
    {
     "data": {
      "text/plain": [
       "<function __main__.display_popularity_based_recommendations(genre, min_reviews, top_n)>"
      ]
     },
     "execution_count": 25,
     "metadata": {},
     "output_type": "execute_result"
    }
   ],
   "source": [
    "interact(display_popularity_based_recommendations,\n",
    "         genre=widgets.Dropdown(options=all_genres, description=\"Genre\"),\n",
    "         min_reviews=widgets.IntSlider(min=50, max=500, step=50, value=100),\n",
    "         top_n=widgets.IntSlider(min=1, max=10, step=1, value=5))"
   ]
  },
  {
   "cell_type": "code",
   "execution_count": null,
   "id": "dafb3eea-9b11-42b4-b0a0-038535c3bb85",
   "metadata": {},
   "outputs": [],
   "source": []
  }
 ],
 "metadata": {
  "kernelspec": {
   "display_name": "Python 3 (ipykernel)",
   "language": "python",
   "name": "python3"
  },
  "language_info": {
   "codemirror_mode": {
    "name": "ipython",
    "version": 3
   },
   "file_extension": ".py",
   "mimetype": "text/x-python",
   "name": "python",
   "nbconvert_exporter": "python",
   "pygments_lexer": "ipython3",
   "version": "3.12.4"
  }
 },
 "nbformat": 4,
 "nbformat_minor": 5
}
